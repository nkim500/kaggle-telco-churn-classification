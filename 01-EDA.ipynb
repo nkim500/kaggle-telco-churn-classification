{
 "cells": [
  {
   "cell_type": "markdown",
   "metadata": {},
   "source": [
    "## Predicting TelCo Customer Churn - EDA"
   ]
  },
  {
   "cell_type": "markdown",
   "metadata": {},
   "source": [
    "[Kaggle link](https://www.kaggle.com/datasets/blastchar/telco-customer-churn/data)\n",
    "\n",
    "[Additional information about the dataset](https://community.ibm.com/community/user/businessanalytics/blogs/steven-macko/2019/07/11/telco-customer-churn-1113)"
   ]
  },
  {
   "cell_type": "markdown",
   "metadata": {},
   "source": [
    "### 1. Load packages and data"
   ]
  },
  {
   "cell_type": "code",
   "execution_count": 1,
   "metadata": {},
   "outputs": [],
   "source": [
    "import warnings\n",
    "from itertools import product\n",
    "\n",
    "import matplotlib.pyplot as plt\n",
    "import numpy as np\n",
    "import pandas as pd\n",
    "import plotly.express as px\n",
    "import plotly.graph_objects as go\n",
    "import scipy.stats as stats\n",
    "import seaborn as sns\n",
    "from plotly import figure_factory as ff\n",
    "from plotly.subplots import make_subplots\n",
    "\n",
    "pd.set_option(\"display.float_format\", lambda x: f\"{x:.3f}\")\n",
    "warnings.filterwarnings(\"ignore\")\n",
    "\n",
    "# loading data\n",
    "df = pd.read_csv(\"data/WA_Fn-UseC_-Telco-Customer-Churn.csv\")"
   ]
  },
  {
   "cell_type": "markdown",
   "metadata": {},
   "source": [
    "### 2. Discovery"
   ]
  },
  {
   "cell_type": "markdown",
   "metadata": {},
   "source": [
    "##### 2a. According to the Kaggle data card:\n",
    "\n",
    "- **Customers who left within the last month** – the column is called Churn\n",
    "- **Services that each customer has signed up for** – phone, multiple lines, internet, online security, online backup, device protection, tech support, and streaming TV and movies\n",
    "- **Customer account information** – how long they’ve been a customer, contract, payment method, paperless billing, monthly charges, and total charges\n",
    "- **Demographic info about customers** – gender, age range, and if they have partners and dependents\n",
    " \n",
    "- Additional details about the dataset found [here](https://community.ibm.com/community/user/businessanalytics/blogs/steven-macko/2019/07/11/telco-customer-churn-1113)"
   ]
  },
  {
   "cell_type": "markdown",
   "metadata": {},
   "source": [
    "##### 2b. Understanding the nature of the data - .nunique() and .unique()"
   ]
  },
  {
   "cell_type": "code",
   "execution_count": 2,
   "metadata": {},
   "outputs": [
    {
     "name": "stdout",
     "output_type": "stream",
     "text": [
      "7043 \t customerID         \t ['0002-ORFBO', '0003-MKNFE', '0004-TLHLJ', '0011-IGKFF', '0013-EXCHZ', '0013-MHZWF', '0013-SMEOE', '0014-BMAQU', '0015-UOCOJ', '0016-QLJIS', '0017-DINOC', '0017-IUDMW', '0018-NYROU', '0019-EFAEP', '0019-GFNTW', '0020-INWCK', '0020-JDNXP', '0021-IKXGC', '0022-TCJCI', '0023-HGHWL']\n",
      "2 \t gender         \t ['Female', 'Male']\n",
      "2 \t SeniorCitizen         \t [0, 1]\n",
      "2 \t Partner         \t ['No', 'Yes']\n",
      "2 \t Dependents         \t ['No', 'Yes']\n",
      "73 \t tenure         \t [0, 1, 2, 3, 4, 5, 6, 7, 8, 9, 10, 11, 12, 13, 14, 15, 16, 17, 18, 19]\n",
      "2 \t PhoneService         \t ['No', 'Yes']\n",
      "3 \t MultipleLines         \t ['No', 'No phone service', 'Yes']\n",
      "3 \t InternetService         \t ['DSL', 'Fiber optic', 'No']\n",
      "3 \t OnlineSecurity         \t ['No', 'No internet service', 'Yes']\n",
      "3 \t OnlineBackup         \t ['No', 'No internet service', 'Yes']\n",
      "3 \t DeviceProtection         \t ['No', 'No internet service', 'Yes']\n",
      "3 \t TechSupport         \t ['No', 'No internet service', 'Yes']\n",
      "3 \t StreamingTV         \t ['No', 'No internet service', 'Yes']\n",
      "3 \t StreamingMovies         \t ['No', 'No internet service', 'Yes']\n",
      "3 \t Contract         \t ['Month-to-month', 'One year', 'Two year']\n",
      "2 \t PaperlessBilling         \t ['No', 'Yes']\n",
      "4 \t PaymentMethod         \t ['Bank transfer (automatic)', 'Credit card (automatic)', 'Electronic check', 'Mailed check']\n",
      "1585 \t MonthlyCharges         \t [18.25, 18.4, 18.55, 18.7, 18.75, 18.8, 18.85, 18.9, 18.95, 19.0, 19.05, 19.1, 19.15, 19.2, 19.25, 19.3, 19.35, 19.4, 19.45, 19.5]\n",
      "6531 \t TotalCharges         \t [' ', '100.2', '100.25', '100.35', '100.4', '100.8', '100.9', '1001.2', '1001.5', '1003.05', '1004.35', '1004.5', '1004.75', '1005.7', '1006.9', '1007.8', '1007.9', '1008.55', '1008.7', '1009.25']\n",
      "2 \t Churn         \t ['No', 'Yes']\n"
     ]
    }
   ],
   "source": [
    "for i in df.columns:\n",
    "    print(df[i].nunique(), \"\\t\", i, \"        \\t\", sorted(df[i].unique())[:20])"
   ]
  },
  {
   "cell_type": "code",
   "execution_count": 3,
   "metadata": {},
   "outputs": [
    {
     "name": "stdout",
     "output_type": "stream",
     "text": [
      "<class 'pandas.core.frame.DataFrame'>\n",
      "RangeIndex: 7043 entries, 0 to 7042\n",
      "Data columns (total 21 columns):\n",
      " #   Column            Non-Null Count  Dtype  \n",
      "---  ------            --------------  -----  \n",
      " 0   customerID        7043 non-null   object \n",
      " 1   gender            7043 non-null   object \n",
      " 2   SeniorCitizen     7043 non-null   int64  \n",
      " 3   Partner           7043 non-null   object \n",
      " 4   Dependents        7043 non-null   object \n",
      " 5   tenure            7043 non-null   int64  \n",
      " 6   PhoneService      7043 non-null   object \n",
      " 7   MultipleLines     7043 non-null   object \n",
      " 8   InternetService   7043 non-null   object \n",
      " 9   OnlineSecurity    7043 non-null   object \n",
      " 10  OnlineBackup      7043 non-null   object \n",
      " 11  DeviceProtection  7043 non-null   object \n",
      " 12  TechSupport       7043 non-null   object \n",
      " 13  StreamingTV       7043 non-null   object \n",
      " 14  StreamingMovies   7043 non-null   object \n",
      " 15  Contract          7043 non-null   object \n",
      " 16  PaperlessBilling  7043 non-null   object \n",
      " 17  PaymentMethod     7043 non-null   object \n",
      " 18  MonthlyCharges    7043 non-null   float64\n",
      " 19  TotalCharges      7043 non-null   object \n",
      " 20  Churn             7043 non-null   object \n",
      "dtypes: float64(1), int64(2), object(18)\n",
      "memory usage: 1.1+ MB\n"
     ]
    }
   ],
   "source": [
    "df.info()"
   ]
  },
  {
   "cell_type": "code",
   "execution_count": 4,
   "metadata": {},
   "outputs": [],
   "source": [
    "df.TotalCharges = pd.to_numeric(df.TotalCharges, errors=\"coerce\")"
   ]
  },
  {
   "cell_type": "code",
   "execution_count": 5,
   "metadata": {},
   "outputs": [
    {
     "name": "stdout",
     "output_type": "stream",
     "text": [
      "Categorized all columns\n"
     ]
    }
   ],
   "source": [
    "columns_to_drop = [\"customerID\"]\n",
    "\n",
    "try:\n",
    "    df = df.drop(columns=columns_to_drop)\n",
    "except KeyError:\n",
    "    pass\n",
    "\n",
    "boolean_columns = [\n",
    "    \"gender\",\n",
    "    \"SeniorCitizen\",\n",
    "    \"Partner\",\n",
    "    \"Dependents\",\n",
    "    \"PhoneService\",\n",
    "    \"PaperlessBilling\",\n",
    "    \"Churn\",\n",
    "]\n",
    "\n",
    "categorical_columns = [\n",
    "    \"MultipleLines\",\n",
    "    \"InternetService\",\n",
    "    \"OnlineSecurity\",\n",
    "    \"OnlineBackup\",\n",
    "    \"DeviceProtection\",\n",
    "    \"TechSupport\",\n",
    "    \"StreamingTV\",\n",
    "    \"StreamingMovies\",\n",
    "    \"Contract\",\n",
    "    \"PaymentMethod\",\n",
    "]\n",
    "\n",
    "numerical_columns = [\"tenure\", \"MonthlyCharges\", \"TotalCharges\"]\n",
    "\n",
    "\n",
    "if not (\n",
    "    len(boolean_columns)\n",
    "    + len(categorical_columns)\n",
    "    + len(numerical_columns)\n",
    "    - len(df.columns)\n",
    "):\n",
    "    print(\"Categorized all columns\")\n",
    "else:\n",
    "    print(\"Check if you accounted for all columns\")"
   ]
  },
  {
   "cell_type": "markdown",
   "metadata": {},
   "source": [
    "Notes:\n",
    "- Customers can have phone and/or internet services, and related services\n",
    "- There are blank values in the column TotalCharges\n",
    "- customerID seems to be a useless feature for predicting churn"
   ]
  },
  {
   "cell_type": "markdown",
   "metadata": {},
   "source": [
    "##### 2c. Check data integrity - check for missing values and outliers"
   ]
  },
  {
   "cell_type": "code",
   "execution_count": 6,
   "metadata": {},
   "outputs": [
    {
     "data": {
      "text/plain": [
       "gender               0\n",
       "SeniorCitizen        0\n",
       "Partner              0\n",
       "Dependents           0\n",
       "tenure               0\n",
       "PhoneService         0\n",
       "MultipleLines        0\n",
       "InternetService      0\n",
       "OnlineSecurity       0\n",
       "OnlineBackup         0\n",
       "DeviceProtection     0\n",
       "TechSupport          0\n",
       "StreamingTV          0\n",
       "StreamingMovies      0\n",
       "Contract             0\n",
       "PaperlessBilling     0\n",
       "PaymentMethod        0\n",
       "MonthlyCharges       0\n",
       "TotalCharges        11\n",
       "Churn                0\n",
       "dtype: int64"
      ]
     },
     "execution_count": 6,
     "metadata": {},
     "output_type": "execute_result"
    }
   ],
   "source": [
    "df.isna().sum()"
   ]
  },
  {
   "cell_type": "markdown",
   "metadata": {},
   "source": [
    "Blanks in TotalCharges: attributable to customers with 0 months of tenure"
   ]
  },
  {
   "cell_type": "code",
   "execution_count": 7,
   "metadata": {},
   "outputs": [
    {
     "data": {
      "text/plain": [
       "count   0.000\n",
       "mean      NaN\n",
       "std       NaN\n",
       "min       NaN\n",
       "25%       NaN\n",
       "50%       NaN\n",
       "75%       NaN\n",
       "max       NaN\n",
       "Name: tenure, dtype: float64"
      ]
     },
     "execution_count": 7,
     "metadata": {},
     "output_type": "execute_result"
    }
   ],
   "source": [
    "df[df.TotalCharges == \" \"].tenure.describe()"
   ]
  },
  {
   "cell_type": "markdown",
   "metadata": {},
   "source": [
    "Dropping this subset should be fine as they are (1) likely not helpful for predicting churn and (2) constitue a very small portion of the dataset, unlikely to affect the outcome significantly"
   ]
  },
  {
   "cell_type": "code",
   "execution_count": 8,
   "metadata": {},
   "outputs": [],
   "source": [
    "df = df[df.tenure > 0]"
   ]
  },
  {
   "cell_type": "code",
   "execution_count": 9,
   "metadata": {},
   "outputs": [
    {
     "data": {
      "image/png": "[encoded data removed]",
      "text/plain": [
       "<Figure size 1000x300 with 2 Axes>"
      ]
     },
     "metadata": {},
     "output_type": "display_data"
    },
    {
     "data": {
      "image/png": "[encoded data removed]",
      "text/plain": [
       "<Figure size 1000x300 with 2 Axes>"
      ]
     },
     "metadata": {},
     "output_type": "display_data"
    },
    {
     "data": {
      "image/png": "[encoded data removed]",
      "text/plain": [
       "<Figure size 1000x300 with 2 Axes>"
      ]
     },
     "metadata": {},
     "output_type": "display_data"
    },
    {
     "data": {
      "text/html": [
       "<div>\n",
       "<style scoped>\n",
       "    .dataframe tbody tr th:only-of-type {\n",
       "        vertical-align: middle;\n",
       "    }\n",
       "\n",
       "    .dataframe tbody tr th {\n",
       "        vertical-align: top;\n",
       "    }\n",
       "\n",
       "    .dataframe thead th {\n",
       "        text-align: right;\n",
       "    }\n",
       "</style>\n",
       "<table border=\"1\" class=\"dataframe\">\n",
       "  <thead>\n",
       "    <tr style=\"text-align: right;\">\n",
       "      <th></th>\n",
       "      <th>gender</th>\n",
       "      <th>SeniorCitizen</th>\n",
       "      <th>Partner</th>\n",
       "      <th>Dependents</th>\n",
       "      <th>PhoneService</th>\n",
       "      <th>MultipleLines</th>\n",
       "      <th>InternetService</th>\n",
       "      <th>OnlineSecurity</th>\n",
       "      <th>OnlineBackup</th>\n",
       "      <th>DeviceProtection</th>\n",
       "      <th>TechSupport</th>\n",
       "      <th>StreamingTV</th>\n",
       "      <th>StreamingMovies</th>\n",
       "      <th>Contract</th>\n",
       "      <th>PaperlessBilling</th>\n",
       "      <th>PaymentMethod</th>\n",
       "      <th>Churn</th>\n",
       "      <th>tenure_value</th>\n",
       "      <th>MonthlyCharges_value</th>\n",
       "      <th>TotalCharges_value</th>\n",
       "    </tr>\n",
       "  </thead>\n",
       "  <tbody>\n",
       "    <tr>\n",
       "      <th>0</th>\n",
       "      <td>Female</td>\n",
       "      <td>0</td>\n",
       "      <td>Yes</td>\n",
       "      <td>No</td>\n",
       "      <td>No</td>\n",
       "      <td>No phone service</td>\n",
       "      <td>DSL</td>\n",
       "      <td>No</td>\n",
       "      <td>Yes</td>\n",
       "      <td>No</td>\n",
       "      <td>No</td>\n",
       "      <td>No</td>\n",
       "      <td>No</td>\n",
       "      <td>Month-to-month</td>\n",
       "      <td>Yes</td>\n",
       "      <td>Electronic check</td>\n",
       "      <td>No</td>\n",
       "      <td>tenure_2</td>\n",
       "      <td>MonthlyCharges_35</td>\n",
       "      <td>TotalCharges_196</td>\n",
       "    </tr>\n",
       "    <tr>\n",
       "      <th>1</th>\n",
       "      <td>Male</td>\n",
       "      <td>0</td>\n",
       "      <td>No</td>\n",
       "      <td>No</td>\n",
       "      <td>Yes</td>\n",
       "      <td>No</td>\n",
       "      <td>DSL</td>\n",
       "      <td>Yes</td>\n",
       "      <td>No</td>\n",
       "      <td>Yes</td>\n",
       "      <td>No</td>\n",
       "      <td>No</td>\n",
       "      <td>No</td>\n",
       "      <td>One year</td>\n",
       "      <td>No</td>\n",
       "      <td>Mailed check</td>\n",
       "      <td>No</td>\n",
       "      <td>tenure_36</td>\n",
       "      <td>MonthlyCharges_57</td>\n",
       "      <td>TotalCharges_1531</td>\n",
       "    </tr>\n",
       "    <tr>\n",
       "      <th>2</th>\n",
       "      <td>Male</td>\n",
       "      <td>0</td>\n",
       "      <td>No</td>\n",
       "      <td>No</td>\n",
       "      <td>Yes</td>\n",
       "      <td>No</td>\n",
       "      <td>DSL</td>\n",
       "      <td>Yes</td>\n",
       "      <td>Yes</td>\n",
       "      <td>No</td>\n",
       "      <td>No</td>\n",
       "      <td>No</td>\n",
       "      <td>No</td>\n",
       "      <td>Month-to-month</td>\n",
       "      <td>Yes</td>\n",
       "      <td>Mailed check</td>\n",
       "      <td>Yes</td>\n",
       "      <td>tenure_2</td>\n",
       "      <td>MonthlyCharges_57</td>\n",
       "      <td>TotalCharges_196</td>\n",
       "    </tr>\n",
       "    <tr>\n",
       "      <th>3</th>\n",
       "      <td>Male</td>\n",
       "      <td>0</td>\n",
       "      <td>No</td>\n",
       "      <td>No</td>\n",
       "      <td>No</td>\n",
       "      <td>No phone service</td>\n",
       "      <td>DSL</td>\n",
       "      <td>Yes</td>\n",
       "      <td>No</td>\n",
       "      <td>Yes</td>\n",
       "      <td>Yes</td>\n",
       "      <td>No</td>\n",
       "      <td>No</td>\n",
       "      <td>One year</td>\n",
       "      <td>No</td>\n",
       "      <td>Bank transfer (automatic)</td>\n",
       "      <td>No</td>\n",
       "      <td>tenure_45</td>\n",
       "      <td>MonthlyCharges_47</td>\n",
       "      <td>TotalCharges_1531</td>\n",
       "    </tr>\n",
       "    <tr>\n",
       "      <th>4</th>\n",
       "      <td>Female</td>\n",
       "      <td>0</td>\n",
       "      <td>No</td>\n",
       "      <td>No</td>\n",
       "      <td>Yes</td>\n",
       "      <td>No</td>\n",
       "      <td>Fiber optic</td>\n",
       "      <td>No</td>\n",
       "      <td>No</td>\n",
       "      <td>No</td>\n",
       "      <td>No</td>\n",
       "      <td>No</td>\n",
       "      <td>No</td>\n",
       "      <td>Month-to-month</td>\n",
       "      <td>Yes</td>\n",
       "      <td>Electronic check</td>\n",
       "      <td>Yes</td>\n",
       "      <td>tenure_2</td>\n",
       "      <td>MonthlyCharges_68</td>\n",
       "      <td>TotalCharges_196</td>\n",
       "    </tr>\n",
       "  </tbody>\n",
       "</table>\n",
       "</div>"
      ],
      "text/plain": [
       "   gender  SeniorCitizen Partner Dependents PhoneService     MultipleLines  \\\n",
       "0  Female              0     Yes         No           No  No phone service   \n",
       "1    Male              0      No         No          Yes                No   \n",
       "2    Male              0      No         No          Yes                No   \n",
       "3    Male              0      No         No           No  No phone service   \n",
       "4  Female              0      No         No          Yes                No   \n",
       "\n",
       "  InternetService OnlineSecurity OnlineBackup DeviceProtection TechSupport  \\\n",
       "0             DSL             No          Yes               No          No   \n",
       "1             DSL            Yes           No              Yes          No   \n",
       "2             DSL            Yes          Yes               No          No   \n",
       "3             DSL            Yes           No              Yes         Yes   \n",
       "4     Fiber optic             No           No               No          No   \n",
       "\n",
       "  StreamingTV StreamingMovies        Contract PaperlessBilling  \\\n",
       "0          No              No  Month-to-month              Yes   \n",
       "1          No              No        One year               No   \n",
       "2          No              No  Month-to-month              Yes   \n",
       "3          No              No        One year               No   \n",
       "4          No              No  Month-to-month              Yes   \n",
       "\n",
       "               PaymentMethod Churn tenure_value MonthlyCharges_value  \\\n",
       "0           Electronic check    No     tenure_2    MonthlyCharges_35   \n",
       "1               Mailed check    No    tenure_36    MonthlyCharges_57   \n",
       "2               Mailed check   Yes     tenure_2    MonthlyCharges_57   \n",
       "3  Bank transfer (automatic)    No    tenure_45    MonthlyCharges_47   \n",
       "4           Electronic check   Yes     tenure_2    MonthlyCharges_68   \n",
       "\n",
       "  TotalCharges_value  \n",
       "0   TotalCharges_196  \n",
       "1  TotalCharges_1531  \n",
       "2   TotalCharges_196  \n",
       "3  TotalCharges_1531  \n",
       "4   TotalCharges_196  "
      ]
     },
     "execution_count": 9,
     "metadata": {},
     "output_type": "execute_result"
    }
   ],
   "source": [
    "from sklearn.cluster import KMeans\n",
    "\n",
    "\n",
    "def get_knn_bins(df, cols, bins=10, drop_cols=True):\n",
    "    plt.rc(\"font\", **{\"size\": 8})\n",
    "\n",
    "    for col in cols:\n",
    "        kmeans = KMeans(n_clusters=bins).fit(df[col].to_frame().values.reshape(-1, 1))\n",
    "        results = pd.DataFrame(kmeans.labels_, columns=[col + \"_centroid\"])\n",
    "\n",
    "        df = df.reset_index()\n",
    "        df[col + \"_centroid\"] = results[col + \"_centroid\"]\n",
    "\n",
    "        knn_bin_df = pd.DataFrame(kmeans.cluster_centers_)\n",
    "        knn_bin_df = knn_bin_df.astype(int).reset_index()\n",
    "\n",
    "        temp_df = pd.merge(\n",
    "            df[col + \"_centroid\"],\n",
    "            knn_bin_df,\n",
    "            left_on=col + \"_centroid\",\n",
    "            right_on=\"index\",\n",
    "            how=\"left\",\n",
    "        )\n",
    "\n",
    "        temp_df = temp_df.rename(columns={0: col + \"_value\"})\n",
    "\n",
    "        temp_df.loc[:, col + \"_value\"] = col + \"_\" + temp_df[col + \"_value\"].astype(str)\n",
    "\n",
    "        df = pd.concat([df, temp_df[col + \"_value\"]], axis=1)\n",
    "        df.drop([col + \"_centroid\", \"index\"], axis=1, inplace=True)\n",
    "\n",
    "        fig, (ax1, ax2) = plt.subplots(1, 2, figsize=(10, 3))\n",
    "\n",
    "        ax1.hist(df[col].values, bins=50)\n",
    "        ax1.set_title(\"Histogram of \" + col)\n",
    "\n",
    "        Count_Bins = (\n",
    "            temp_df[col + \"_value\"]\n",
    "            .value_counts()\n",
    "            .rename_axis(\"bins\")\n",
    "            .reset_index(name=\"counts\")\n",
    "        )\n",
    "        extract_number = Count_Bins.bins.str.extract(\n",
    "            \"([a-zA-Z]+)([^a-zA-Z]+)\", expand=True\n",
    "        )\n",
    "        extract_number.columns = [\"Text\", \"Number\"]\n",
    "        Count_Bins[\"bin_centroid\"] = (\n",
    "            extract_number[\"Number\"].apply(lambda x: x.split(\"_\")[1]).astype(int)\n",
    "        )\n",
    "        Count_Bins.sort_values(by=[\"bin_centroid\"], ascending=True, inplace=True)\n",
    "\n",
    "        ax2.bar(Count_Bins.iloc[:, 0], Count_Bins.iloc[:, 1])\n",
    "        ax2.set_title(\"Bar Chart of \" + col + \" Binned\")\n",
    "        ax2.tick_params(labelrotation=30)\n",
    "        plt.yticks(rotation=0)\n",
    "        plt.tight_layout()\n",
    "        plt.show()\n",
    "\n",
    "    if drop_cols:\n",
    "        return df.drop(cols, axis=1)\n",
    "\n",
    "    else:\n",
    "        return df\n",
    "\n",
    "\n",
    "recoded_df = get_knn_bins(df, numerical_columns, bins=10)\n",
    "recoded_df.head()"
   ]
  },
  {
   "cell_type": "markdown",
   "metadata": {},
   "source": [
    "##### 2d. Understanding the nature of the data - TotalCharges"
   ]
  },
  {
   "cell_type": "markdown",
   "metadata": {},
   "source": [
    "[Total Charges may include additional charges such as extra data and long distance](https://community.ibm.com/community/user/businessanalytics/blogs/steven-macko/2019/07/11/telco-customer-churn-1113)"
   ]
  },
  {
   "cell_type": "code",
   "execution_count": 10,
   "metadata": {},
   "outputs": [
    {
     "data": {
      "text/html": [
       "<div>\n",
       "<style scoped>\n",
       "    .dataframe tbody tr th:only-of-type {\n",
       "        vertical-align: middle;\n",
       "    }\n",
       "\n",
       "    .dataframe tbody tr th {\n",
       "        vertical-align: top;\n",
       "    }\n",
       "\n",
       "    .dataframe thead th {\n",
       "        text-align: right;\n",
       "    }\n",
       "</style>\n",
       "<table border=\"1\" class=\"dataframe\">\n",
       "  <thead>\n",
       "    <tr style=\"text-align: right;\">\n",
       "      <th></th>\n",
       "      <th>tenure</th>\n",
       "      <th>MonthlyCharges</th>\n",
       "      <th>TotalCharges</th>\n",
       "      <th>CalcTotal</th>\n",
       "      <th>Delta</th>\n",
       "      <th>DeltaPct</th>\n",
       "      <th>DeltaPctAbs</th>\n",
       "      <th>MonthlyAvgDeltaPctAbs</th>\n",
       "      <th>AddlChargesPerMonth</th>\n",
       "    </tr>\n",
       "  </thead>\n",
       "  <tbody>\n",
       "    <tr>\n",
       "      <th>count</th>\n",
       "      <td>7032.000</td>\n",
       "      <td>7032.000</td>\n",
       "      <td>7032.000</td>\n",
       "      <td>7032.000</td>\n",
       "      <td>7032.000</td>\n",
       "      <td>7032.000</td>\n",
       "      <td>7032.000</td>\n",
       "      <td>7032.000</td>\n",
       "      <td>7032.000</td>\n",
       "    </tr>\n",
       "    <tr>\n",
       "      <th>mean</th>\n",
       "      <td>32.422</td>\n",
       "      <td>64.798</td>\n",
       "      <td>2283.300</td>\n",
       "      <td>2283.147</td>\n",
       "      <td>0.153</td>\n",
       "      <td>-0.002</td>\n",
       "      <td>0.032</td>\n",
       "      <td>0.765</td>\n",
       "      <td>0.001</td>\n",
       "    </tr>\n",
       "    <tr>\n",
       "      <th>std</th>\n",
       "      <td>24.545</td>\n",
       "      <td>30.086</td>\n",
       "      <td>2266.771</td>\n",
       "      <td>2264.703</td>\n",
       "      <td>67.255</td>\n",
       "      <td>0.051</td>\n",
       "      <td>0.040</td>\n",
       "      <td>0.841</td>\n",
       "      <td>2.616</td>\n",
       "    </tr>\n",
       "    <tr>\n",
       "      <th>min</th>\n",
       "      <td>1.000</td>\n",
       "      <td>18.250</td>\n",
       "      <td>18.800</td>\n",
       "      <td>18.800</td>\n",
       "      <td>-370.850</td>\n",
       "      <td>-0.451</td>\n",
       "      <td>0.000</td>\n",
       "      <td>0.000</td>\n",
       "      <td>-19.125</td>\n",
       "    </tr>\n",
       "    <tr>\n",
       "      <th>25%</th>\n",
       "      <td>9.000</td>\n",
       "      <td>35.587</td>\n",
       "      <td>401.450</td>\n",
       "      <td>397.800</td>\n",
       "      <td>-28.650</td>\n",
       "      <td>-0.021</td>\n",
       "      <td>0.007</td>\n",
       "      <td>0.166</td>\n",
       "      <td>-1.148</td>\n",
       "    </tr>\n",
       "    <tr>\n",
       "      <th>50%</th>\n",
       "      <td>29.000</td>\n",
       "      <td>70.350</td>\n",
       "      <td>1397.475</td>\n",
       "      <td>1394.575</td>\n",
       "      <td>0.000</td>\n",
       "      <td>0.000</td>\n",
       "      <td>0.020</td>\n",
       "      <td>0.503</td>\n",
       "      <td>0.000</td>\n",
       "    </tr>\n",
       "    <tr>\n",
       "      <th>75%</th>\n",
       "      <td>55.000</td>\n",
       "      <td>89.862</td>\n",
       "      <td>3794.738</td>\n",
       "      <td>3791.250</td>\n",
       "      <td>28.700</td>\n",
       "      <td>0.019</td>\n",
       "      <td>0.042</td>\n",
       "      <td>1.082</td>\n",
       "      <td>1.160</td>\n",
       "    </tr>\n",
       "    <tr>\n",
       "      <th>max</th>\n",
       "      <td>72.000</td>\n",
       "      <td>118.750</td>\n",
       "      <td>8684.800</td>\n",
       "      <td>8550.000</td>\n",
       "      <td>373.250</td>\n",
       "      <td>0.364</td>\n",
       "      <td>0.451</td>\n",
       "      <td>7.707</td>\n",
       "      <td>18.900</td>\n",
       "    </tr>\n",
       "  </tbody>\n",
       "</table>\n",
       "</div>"
      ],
      "text/plain": [
       "        tenure  MonthlyCharges  TotalCharges  CalcTotal    Delta  DeltaPct  \\\n",
       "count 7032.000        7032.000      7032.000   7032.000 7032.000  7032.000   \n",
       "mean    32.422          64.798      2283.300   2283.147    0.153    -0.002   \n",
       "std     24.545          30.086      2266.771   2264.703   67.255     0.051   \n",
       "min      1.000          18.250        18.800     18.800 -370.850    -0.451   \n",
       "25%      9.000          35.587       401.450    397.800  -28.650    -0.021   \n",
       "50%     29.000          70.350      1397.475   1394.575    0.000     0.000   \n",
       "75%     55.000          89.862      3794.738   3791.250   28.700     0.019   \n",
       "max     72.000         118.750      8684.800   8550.000  373.250     0.364   \n",
       "\n",
       "       DeltaPctAbs  MonthlyAvgDeltaPctAbs  AddlChargesPerMonth  \n",
       "count     7032.000               7032.000             7032.000  \n",
       "mean         0.032                  0.765                0.001  \n",
       "std          0.040                  0.841                2.616  \n",
       "min          0.000                  0.000              -19.125  \n",
       "25%          0.007                  0.166               -1.148  \n",
       "50%          0.020                  0.503                0.000  \n",
       "75%          0.042                  1.082                1.160  \n",
       "max          0.451                  7.707               18.900  "
      ]
     },
     "execution_count": 10,
     "metadata": {},
     "output_type": "execute_result"
    }
   ],
   "source": [
    "df_charges = df[[\"tenure\", \"MonthlyCharges\", \"TotalCharges\"]].copy()\n",
    "df_charges[\"CalcTotal\"] = df_charges.tenure * df_charges.MonthlyCharges\n",
    "df_charges[\"Delta\"] = df_charges.TotalCharges - df_charges.CalcTotal\n",
    "df_charges[\"DeltaPct\"] = df_charges.Delta / df_charges.TotalCharges\n",
    "# df_charges[df_charges.Delta == 0]\n",
    "df_charges[\"DeltaPctAbs\"] = df_charges.DeltaPct.abs()\n",
    "df_charges.sort_values(by=[\"DeltaPct\"]).head(50)\n",
    "df_charges[\"MonthlyAvgDeltaPctAbs\"] = (df_charges.Delta / df_charges.MonthlyCharges).abs()\n",
    "df_charges.sort_values(by=[\"MonthlyAvgDeltaPctAbs\"], ascending=False).head(50)\n",
    "df_charges[\"AddlChargesPerMonth\"] = df_charges.Delta / df_charges.tenure\n",
    "df_charges.describe()"
   ]
  },
  {
   "cell_type": "markdown",
   "metadata": {},
   "source": [
    "### 3. EDA & Visualization"
   ]
  },
  {
   "cell_type": "markdown",
   "metadata": {},
   "source": [
    "##### Helper functions"
   ]
  },
  {
   "cell_type": "code",
   "execution_count": 11,
   "metadata": {},
   "outputs": [],
   "source": [
    "def create_value_counts_df(\n",
    "    original_df: pd.DataFrame,\n",
    "    column_names: list[str],\n",
    "    common_mapping: dict,\n",
    "    index_by_churn: bool,\n",
    "    **custom_mapping_kwargs,\n",
    ") -> pd.DataFrame:\n",
    "    cols_to_map = column_names.copy()\n",
    "\n",
    "    if \"Churn\" in column_names:\n",
    "        cols_to_map.remove(\"Churn\")\n",
    "\n",
    "    map_df = original_df[cols_to_map].copy()\n",
    "\n",
    "    custom_mapped_cols = []\n",
    "    if custom_mapping_kwargs:\n",
    "        for k, val in custom_mapping_kwargs.items():\n",
    "            map_df[k] = map_df[k].map(val)\n",
    "            custom_mapped_cols.append(k)\n",
    "    for i in cols_to_map:\n",
    "        if i not in custom_mapped_cols:\n",
    "            map_df[i] = map_df[i].map(common_mapping)\n",
    "\n",
    "    map_df = pd.concat([map_df, original_df.Churn], axis=1)\n",
    "\n",
    "    value_counts = []\n",
    "    if index_by_churn:\n",
    "        idx = [\"Retained\", \"Churned\"]\n",
    "        for i in cols_to_map:\n",
    "            value_counts.append(\n",
    "                map_df.groupby(by=[\"Churn\", i]).size().unstack(fill_value=0)\n",
    "            )\n",
    "    else:\n",
    "        idx = sorted(common_mapping.values())\n",
    "        for i in cols_to_map:\n",
    "            value_counts.append(\n",
    "                map_df.groupby(by=[i, \"Churn\"]).size().unstack(fill_value=0)\n",
    "            )\n",
    "    out_df = pd.concat(value_counts, axis=1, keys=cols_to_map)\n",
    "    out_df.index = idx\n",
    "    out_df = out_df.stack(level=-1).T\n",
    "\n",
    "    return out_df"
   ]
  },
  {
   "cell_type": "code",
   "execution_count": 12,
   "metadata": {},
   "outputs": [],
   "source": [
    "def generate_grouped_stacked_bar_charts(\n",
    "    df_vc: pd.DataFrame,\n",
    "    index_by_churn: bool,\n",
    "    label_dict: dict,\n",
    "    color_dict: dict,\n",
    "    export_path: str | None = None,\n",
    "):\n",
    "    \"\"\"Reference: https://community.plotly.com/t/grouped-stacked-bar-chart/60805/5\"\"\"\n",
    "\n",
    "    fig = go.Figure(\n",
    "        layout=go.Layout(\n",
    "            height=600,\n",
    "            width=1000,\n",
    "            barmode=\"relative\",\n",
    "            yaxis_showticklabels=False,\n",
    "            yaxis_showgrid=False,\n",
    "            yaxis_range=[0, df_vc.groupby(axis=1, level=0).sum().max().max() * 1.5],\n",
    "            yaxis2=go.layout.YAxis(\n",
    "                visible=False,\n",
    "                matches=\"y\",\n",
    "                overlaying=\"y\",\n",
    "                anchor=\"x\",\n",
    "            ),\n",
    "            yaxis3=go.layout.YAxis(\n",
    "                visible=False, matches=\"y\", overlaying=\"y\", anchor=\"x\"\n",
    "            ),\n",
    "            yaxis4=go.layout.YAxis(\n",
    "                visible=False, matches=\"y\", overlaying=\"y\", anchor=\"x\"\n",
    "            ),\n",
    "            font={\"size\": 12},\n",
    "            hovermode=\"x\",\n",
    "            margin={\"b\": 10, \"t\": 10, \"l\": 10, \"r\": 10},\n",
    "        )\n",
    "    )\n",
    "\n",
    "    churned_label = {\"No\": \"Retained\", \"Yes\": \"Churned\"}\n",
    "    spacing = len(color_dict) * 1.5\n",
    "\n",
    "    for i, t in enumerate(color_dict):\n",
    "        for col in df_vc[t].columns:\n",
    "            if (df_vc[t][col] == 0).all():\n",
    "                continue\n",
    "            fig.add_bar(\n",
    "                x=df_vc.index,\n",
    "                y=df_vc[t][col],\n",
    "                yaxis=f\"y{i + 1}\",\n",
    "                offsetgroup=str(i),\n",
    "                offset=(i - 1) * 1 / spacing,\n",
    "                width=1 / spacing,\n",
    "                text=[\n",
    "                    f\"{t},<br>{label_dict[feature][col]},<br>{i:.0f}%\"\n",
    "                    for feature, i in (df_vc[t][col] / df_vc[t].sum(axis=1) * 100).items()\n",
    "                ]\n",
    "                if index_by_churn\n",
    "                else [\n",
    "                    f\"{label_dict[feature][t]},<br>{churned_label[col]}<br>{i:.0f}%\"\n",
    "                    for feature, i in (df_vc[t][col] / df_vc[t].sum(axis=1) * 100).items()\n",
    "                ],\n",
    "                textfont={\"size\": 8},\n",
    "                name=col,\n",
    "                marker_color=color_dict[t][col],\n",
    "                hovertemplate=\"%{y}<extra></extra>\",\n",
    "            )\n",
    "\n",
    "    fig.add_annotation()\n",
    "\n",
    "    if export_path:\n",
    "        fig.write_image(f\"data/{export_path}\")\n",
    "\n",
    "    fig.show()"
   ]
  },
  {
   "cell_type": "markdown",
   "metadata": {},
   "source": [
    "### 3a. Visualizing distributions (with regards to Churn)"
   ]
  },
  {
   "cell_type": "markdown",
   "metadata": {},
   "source": [
    "##### 3a-i. Distribution of binary variables"
   ]
  },
  {
   "cell_type": "code",
   "execution_count": null,
   "metadata": {},
   "outputs": [],
   "source": [
    "binary_vc = create_value_counts_df(\n",
    "    original_df=df,\n",
    "    column_names=boolean_columns,\n",
    "    common_mapping={\"No\": 0, \"Yes\": 1},\n",
    "    index_by_churn=True,\n",
    "    gender={\"Female\": 0, \"Male\": 1},\n",
    ")\n",
    "\n",
    "colors = {\n",
    "    \"Retained\": {\n",
    "        0: \"#F28F1D\",\n",
    "        1: \"#FADD75\",\n",
    "    },\n",
    "    \"Churned\": {\n",
    "        0: \"#2B6045\",\n",
    "        1: \"#9ED4B9\",\n",
    "    },\n",
    "}\n",
    "\n",
    "feature_label = {\n",
    "    \"gender\": {0: \"Female\", 1: \"Male\"},\n",
    "    \"SeniorCitizen\": {0: \"Not Senior\", 1: \"Senior\"},\n",
    "    \"Partner\": {0: \"Single\", 1: \"Partnered\"},\n",
    "    \"Dependents\": {0: \"No Deps.\", 1: \"Has Deps.\"},\n",
    "    \"PhoneService\": {0: \"No Phone\", 1: \"Yes Phone\"},\n",
    "    \"PaperlessBilling\": {0: \"Mailed\", 1: \"Paperless\"},\n",
    "}\n",
    "\n",
    "generate_grouped_stacked_bar_charts(\n",
    "    df_vc=binary_vc,\n",
    "    index_by_churn=True,\n",
    "    label_dict=feature_label,\n",
    "    color_dict=colors,\n",
    "    export_path=\"bool_churn.webp\",\n",
    ")"
   ]
  },
  {
   "cell_type": "markdown",
   "metadata": {},
   "source": [
    "![test](data/bool_churn.webp)"
   ]
  },
  {
   "cell_type": "code",
   "execution_count": null,
   "metadata": {},
   "outputs": [],
   "source": [
    "binary_vc = create_value_counts_df(\n",
    "    original_df=df,\n",
    "    column_names=boolean_columns,\n",
    "    common_mapping={\"No\": 0, \"Yes\": 1},\n",
    "    index_by_churn=False,\n",
    "    gender={\"Female\": 0, \"Male\": 1},\n",
    ")\n",
    "\n",
    "colors = {\n",
    "    0: {\n",
    "        \"No\": \"#F28F1D\",\n",
    "        \"Yes\": \"#FADD75\",\n",
    "    },\n",
    "    1: {\n",
    "        \"No\": \"#2B6045\",\n",
    "        \"Yes\": \"#9ED4B9\",\n",
    "    },\n",
    "}\n",
    "\n",
    "generate_grouped_stacked_bar_charts(\n",
    "    df_vc=binary_vc,\n",
    "    index_by_churn=False,\n",
    "    label_dict=feature_label,\n",
    "    color_dict=colors,\n",
    "    export_path=\"bool_feature.webp\",\n",
    ")"
   ]
  },
  {
   "cell_type": "markdown",
   "metadata": {},
   "source": [
    "![test](data/bool_feature.webp)"
   ]
  },
  {
   "cell_type": "markdown",
   "metadata": {},
   "source": [
    "##### 3a-ii. Distribution of internet service related features"
   ]
  },
  {
   "cell_type": "code",
   "execution_count": 16,
   "metadata": {},
   "outputs": [],
   "source": [
    "internet_svc = categorical_columns.copy()\n",
    "internet_svc.remove(\"MultipleLines\")\n",
    "internet_svc.remove(\"PaymentMethod\")\n",
    "internet_svc.remove(\"InternetService\")\n",
    "internet_svc.remove(\"Contract\")"
   ]
  },
  {
   "cell_type": "code",
   "execution_count": null,
   "metadata": {},
   "outputs": [],
   "source": [
    "tri_vc = create_value_counts_df(\n",
    "    original_df=df,\n",
    "    column_names=internet_svc,\n",
    "    common_mapping={\"No internet service\": 2, \"No\": 0, \"Yes\": 1},\n",
    "    index_by_churn=True,\n",
    ")\n",
    "\n",
    "colors = {\n",
    "    \"Retained\": {0: \"#F28F1D\", 1: \"#FADD75\", 2: \"grey\"},\n",
    "    \"Churned\": {0: \"#2B6045\", 1: \"#9ED4B9\", 2: \"darkgrey\"},\n",
    "}\n",
    "\n",
    "subfeature = {2: \"No internet\", 0: \"No\", 1: \"Yes\"}\n",
    "\n",
    "feature_label = {\n",
    "    \"OnlineSecurity\": subfeature,\n",
    "    \"OnlineBackup\": subfeature,\n",
    "    \"DeviceProtection\": subfeature,\n",
    "    \"TechSupport\": subfeature,\n",
    "    \"StreamingTV\": subfeature,\n",
    "    \"StreamingMovies\": subfeature,\n",
    "}\n",
    "\n",
    "generate_grouped_stacked_bar_charts(\n",
    "    df_vc=tri_vc,\n",
    "    index_by_churn=True,\n",
    "    label_dict=feature_label,\n",
    "    color_dict=colors,\n",
    "    export_path=\"int_churn.webp\",\n",
    ")"
   ]
  },
  {
   "cell_type": "markdown",
   "metadata": {},
   "source": [
    "![test](data/int_churn.webp)"
   ]
  },
  {
   "cell_type": "code",
   "execution_count": null,
   "metadata": {},
   "outputs": [],
   "source": [
    "tri_vc = create_value_counts_df(\n",
    "    original_df=df,\n",
    "    column_names=internet_svc,\n",
    "    common_mapping={\"No internet service\": 2, \"No\": 0, \"Yes\": 1},\n",
    "    index_by_churn=False,\n",
    ")\n",
    "\n",
    "colors = {\n",
    "    0: {\n",
    "        \"No\": \"#F6C619\",\n",
    "        \"Yes\": \"#FADD75\",\n",
    "    },\n",
    "    1: {\n",
    "        \"No\": \"#5EB88A\",\n",
    "        \"Yes\": \"#9ED4B9\",\n",
    "    },\n",
    "    2: {\"No\": \"grey\", \"Yes\": \"darkgrey\"},\n",
    "}\n",
    "\n",
    "generate_grouped_stacked_bar_charts(\n",
    "    df_vc=tri_vc,\n",
    "    index_by_churn=False,\n",
    "    label_dict=feature_label,\n",
    "    color_dict=colors,\n",
    "    export_path=\"int_feature.webp\",\n",
    ")"
   ]
  },
  {
   "cell_type": "markdown",
   "metadata": {},
   "source": [
    "![test](data/int_feature.webp)"
   ]
  },
  {
   "cell_type": "markdown",
   "metadata": {},
   "source": [
    "Observations:\n",
    "\n",
    "- OnlineSecurity+TechSupport and OnlineBackup+DeviceProtection - Customers with additional support + security features less likely to churn\n",
    "\n",
    "- StreamingTV+StreamingMovies - No noticeable difference in churn rate by streaming service subscriptions"
   ]
  },
  {
   "cell_type": "markdown",
   "metadata": {},
   "source": [
    "##### 3a-iii. Distribution of other 'trinary' variables - Multiple [phone] lines, internet service type, contract"
   ]
  },
  {
   "cell_type": "code",
   "execution_count": null,
   "metadata": {},
   "outputs": [],
   "source": [
    "other_tri_cols = [\"MultipleLines\", \"InternetService\", \"Contract\"]\n",
    "is_map = {\"No\": 2, \"DSL\": 0, \"Fiber optic\": 1}\n",
    "ml_map = {\"No phone service\": 2, \"No\": 0, \"Yes\": 1}\n",
    "c_map = {\"Month-to-month\": 0, \"One year\": 1, \"Two year\": 2}\n",
    "\n",
    "other_tri_vc = create_value_counts_df(\n",
    "    original_df=df,\n",
    "    column_names=other_tri_cols,\n",
    "    common_mapping=is_map,\n",
    "    index_by_churn=False,\n",
    "    MultipleLines=ml_map,\n",
    "    Contract=c_map,\n",
    ")\n",
    "\n",
    "colors = {\n",
    "    0: {\n",
    "        \"No\": \"#F6C619\",\n",
    "        \"Yes\": \"#FADD75\",\n",
    "    },\n",
    "    1: {\n",
    "        \"No\": \"#5EB88A\",\n",
    "        \"Yes\": \"#9ED4B9\",\n",
    "    },\n",
    "    2: {\"No\": \"grey\", \"Yes\": \"darkgrey\"},\n",
    "}\n",
    "\n",
    "is_rev = {v: k for k, v in is_map.items()}\n",
    "ml_rev = {v: k for k, v in ml_map.items()}\n",
    "c_rev = {v: k for k, v in c_map.items()}\n",
    "\n",
    "\n",
    "feature_label = {\"InternetService\": is_rev, \"MultipleLines\": ml_rev, \"Contract\": c_rev}\n",
    "\n",
    "generate_grouped_stacked_bar_charts(\n",
    "    df_vc=other_tri_vc,\n",
    "    index_by_churn=False,\n",
    "    label_dict=feature_label,\n",
    "    color_dict=colors,\n",
    "    export_path=\"tri_churn.webp\",\n",
    ")"
   ]
  },
  {
   "cell_type": "markdown",
   "metadata": {},
   "source": [
    "![test](data/tri_churn.webp)"
   ]
  },
  {
   "cell_type": "code",
   "execution_count": null,
   "metadata": {},
   "outputs": [],
   "source": [
    "other_tri_cols = [\"MultipleLines\", \"InternetService\", \"Contract\"]\n",
    "is_map = {\"No\": 2, \"DSL\": 0, \"Fiber optic\": 1}\n",
    "ml_map = {\"No phone service\": 2, \"No\": 0, \"Yes\": 1}\n",
    "c_map = {\"Month-to-month\": 0, \"One year\": 1, \"Two year\": 2}\n",
    "\n",
    "other_tri_vc = create_value_counts_df(\n",
    "    original_df=df,\n",
    "    column_names=other_tri_cols,\n",
    "    common_mapping=is_map,\n",
    "    index_by_churn=True,\n",
    "    MultipleLines=ml_map,\n",
    "    Contract=c_map,\n",
    ")\n",
    "\n",
    "colors = {\n",
    "    \"Retained\": {0: \"#F28F1D\", 1: \"#FADD75\", 2: \"grey\"},\n",
    "    \"Churned\": {0: \"#2B6045\", 1: \"#9ED4B9\", 2: \"darkgrey\"},\n",
    "}\n",
    "\n",
    "generate_grouped_stacked_bar_charts(\n",
    "    df_vc=other_tri_vc,\n",
    "    index_by_churn=True,\n",
    "    label_dict=feature_label,\n",
    "    color_dict=colors,\n",
    "    export_path=\"tri_feature.webp\",\n",
    ")"
   ]
  },
  {
   "cell_type": "markdown",
   "metadata": {},
   "source": [
    "![test](data/tri_feature.webp)"
   ]
  },
  {
   "cell_type": "markdown",
   "metadata": {},
   "source": [
    "Observations:\n",
    "- Fiber optics users among internet service customers more likely to churn\n",
    "- Shorter contracts more likely to churn\n",
    "- No noticeable difference between different phone service customers in re churn"
   ]
  },
  {
   "cell_type": "markdown",
   "metadata": {},
   "source": [
    "##### 3a-iv. Distribution of PaymentMethod features"
   ]
  },
  {
   "cell_type": "code",
   "execution_count": null,
   "metadata": {},
   "outputs": [],
   "source": [
    "pmt_cols = [\"PaymentMethod\"]\n",
    "mappings = {\n",
    "    \"Electronic check\": 0,\n",
    "    \"Mailed check\": 1,\n",
    "    \"Bank transfer (automatic)\": 2,\n",
    "    \"Credit card (automatic)\": 3,\n",
    "}\n",
    "\n",
    "pmt_vc = create_value_counts_df(\n",
    "    original_df=df,\n",
    "    column_names=pmt_cols,\n",
    "    common_mapping=mappings,\n",
    "    index_by_churn=False,\n",
    ")\n",
    "\n",
    "colors = {\n",
    "    0: {\n",
    "        \"No\": \"#F6C619\",\n",
    "        \"Yes\": \"#FADD75\",\n",
    "    },\n",
    "    1: {\n",
    "        \"No\": \"#5EB88A\",\n",
    "        \"Yes\": \"#9ED4B9\",\n",
    "    },\n",
    "    2: {\"No\": \"grey\", \"Yes\": \"darkgrey\"},\n",
    "    3: {\"No\": \"maroon\", \"Yes\": \"brown\"},\n",
    "}\n",
    "\n",
    "feature_label = {\"PaymentMethod\": {y: x for x, y in mappings.items()}}\n",
    "\n",
    "generate_grouped_stacked_bar_charts(\n",
    "    df_vc=pmt_vc,\n",
    "    index_by_churn=False,\n",
    "    label_dict=feature_label,\n",
    "    color_dict=colors,\n",
    "    export_path=\"pmt_method.webp\",\n",
    ")"
   ]
  },
  {
   "cell_type": "markdown",
   "metadata": {},
   "source": [
    "![test](data/pmt_method.webp)"
   ]
  },
  {
   "cell_type": "markdown",
   "metadata": {},
   "source": [
    "Observation:\n",
    "- Customers paying via electronic checks, strangely, more likely to churn?"
   ]
  },
  {
   "cell_type": "markdown",
   "metadata": {},
   "source": [
    "##### 3a-v. Distribution of numerical columns"
   ]
  },
  {
   "cell_type": "code",
   "execution_count": null,
   "metadata": {},
   "outputs": [],
   "source": [
    "fig = ff.create_distplot(\n",
    "    hist_data=[df[df.Churn == \"No\"].MonthlyCharges, df[df.Churn == \"Yes\"].MonthlyCharges],\n",
    "    group_labels=[\"Retained\", \"Churned\"],\n",
    "    bin_size=5,\n",
    "    show_hist=False,\n",
    ")\n",
    "fig.update_layout(hovermode=False)\n",
    "fig.write_image(\"data/mc_dist.webp\")\n",
    "fig.show()"
   ]
  },
  {
   "cell_type": "markdown",
   "metadata": {},
   "source": [
    "![test](data/mc_dist.webp)"
   ]
  },
  {
   "cell_type": "code",
   "execution_count": null,
   "metadata": {},
   "outputs": [],
   "source": [
    "fig = ff.create_distplot(\n",
    "    hist_data=[df[df.Churn == \"No\"].TotalCharges, df[df.Churn == \"Yes\"].TotalCharges],\n",
    "    group_labels=[\"Retained\", \"Churned\"],\n",
    "    show_hist=False,\n",
    ")\n",
    "fig.update_layout(hovermode=False)\n",
    "fig.write_image(\"data/tc_dist.webp\")\n",
    "fig.show()"
   ]
  },
  {
   "cell_type": "markdown",
   "metadata": {},
   "source": [
    "![test](data/tc_dist.webp)"
   ]
  },
  {
   "cell_type": "code",
   "execution_count": null,
   "metadata": {},
   "outputs": [],
   "source": [
    "fig = ff.create_distplot(\n",
    "    hist_data=[df[df.Churn == \"No\"].tenure, df[df.Churn == \"Yes\"].tenure],\n",
    "    group_labels=[\"Retained\", \"Churned\"],\n",
    "    bin_size=5,\n",
    "    show_hist=False,\n",
    ")\n",
    "fig.update_layout(hovermode=False)\n",
    "fig.write_image(\"data/ten_dist.webp\")\n",
    "fig.show()"
   ]
  },
  {
   "cell_type": "markdown",
   "metadata": {},
   "source": [
    "![test](data/ten_dist.webp)"
   ]
  },
  {
   "cell_type": "markdown",
   "metadata": {},
   "source": [
    "Observations:\n",
    "- Higher rate of churn at the higher end of price range, and vice versa\n",
    "- Higher rate of churn at the shorter end of tenure range"
   ]
  },
  {
   "cell_type": "markdown",
   "metadata": {},
   "source": [
    "### 3b. Multicolinearity"
   ]
  },
  {
   "cell_type": "code",
   "execution_count": 25,
   "metadata": {},
   "outputs": [],
   "source": [
    "all_categorical_columns = categorical_columns + boolean_columns\n",
    "cat_cat_prod = list(product(all_categorical_columns, all_categorical_columns, repeat=1))\n",
    "cat_num_prod = list(product(all_categorical_columns, numerical_columns, repeat=1))\n",
    "num_num_prod = list(product(numerical_columns, numerical_columns, repeat=1))"
   ]
  },
  {
   "cell_type": "code",
   "execution_count": 26,
   "metadata": {},
   "outputs": [
    {
     "data": {
      "text/plain": [
       "<Axes: xlabel='var2', ylabel='var1'>"
      ]
     },
     "execution_count": 26,
     "metadata": {},
     "output_type": "execute_result"
    },
    {
     "data": {
      "image/png": "[encoded data removed]",
      "text/plain": [
       "<Figure size 2500x1000 with 2 Axes>"
      ]
     },
     "metadata": {},
     "output_type": "display_data"
    }
   ],
   "source": [
    "cat_corrs = []\n",
    "\n",
    "for i in cat_cat_prod:\n",
    "    if i[0] != i[1]:\n",
    "        cat_corrs.append(\n",
    "            [i[0], i[1], list(stats.chi2_contingency(pd.crosstab(df[i[0]], df[i[1]])))[1]]\n",
    "        )\n",
    "\n",
    "for i in cat_num_prod:\n",
    "    if i[0] != i[1]:\n",
    "        cat_corrs.append(\n",
    "            [i[0], i[1], stats.f_oneway(*df.groupby(i[0])[i[1]].apply(list))[1]]\n",
    "        )\n",
    "\n",
    "df_cat_corrs = pd.DataFrame(cat_corrs, columns=[\"var1\", \"var2\", \"coeff\"])\n",
    "\n",
    "df_cat_corrs = df_cat_corrs.pivot(index=\"var1\", columns=\"var2\", values=\"coeff\")\n",
    "\n",
    "rearranged_columns = list(df_cat_corrs.columns)\n",
    "rearranged_columns.remove(\"MonthlyCharges\")\n",
    "rearranged_columns.remove(\"TotalCharges\")\n",
    "rearranged_columns = rearranged_columns + [\"MonthlyCharges\", \"TotalCharges\"]\n",
    "\n",
    "df_cat_corrs = df_cat_corrs[rearranged_columns]\n",
    "\n",
    "mask = np.tril(np.ones_like(df_cat_corrs, dtype=bool))\n",
    "\n",
    "plt.figure(figsize=(25, 10))\n",
    "\n",
    "sns.heatmap(\n",
    "    data=df_cat_corrs,\n",
    "    mask=mask,\n",
    "    xticklabels=df_cat_corrs.columns,\n",
    "    yticklabels=df_cat_corrs.index,\n",
    "    annot=True,\n",
    "    linewidths=0.2,\n",
    "    cmap=\"coolwarm\",\n",
    "    vmin=-1,\n",
    "    vmax=1,\n",
    "    fmt=\".3g\",\n",
    ")"
   ]
  },
  {
   "cell_type": "markdown",
   "metadata": {},
   "source": [
    "Note:\n",
    "- If p-values of Chi-squared and ANOVA one-way tests are low, we would reject the null hypothesis that two variables are not correlated\n",
    "    - In other words, most variables herein are intercorrelated implied by the near-zero coefficients\n",
    "    - The high coefficient (not correlated) for Dependents X MultipleLines is somewhat unexpected\n",
    "\n",
    "- Notably, gender does not seem to correlate anywhere, though the lack of correlation vs. Churn was somewhat expected from the visualization above\n",
    "    - Models will be trained without this feature\n",
    "\n",
    "- Though the features specific to internet subscribers (e.g. StreamingTV) and phone subscribers (e.g. MultipleLines) are not necessarily one-to-one with the subscriptions, these features will be excluded from model training as they carry somewhat of \"duplicate\" information as seen in the coefficients of 0"
   ]
  },
  {
   "cell_type": "code",
   "execution_count": 27,
   "metadata": {},
   "outputs": [
    {
     "data": {
      "text/html": [
       "<div>\n",
       "<style scoped>\n",
       "    .dataframe tbody tr th:only-of-type {\n",
       "        vertical-align: middle;\n",
       "    }\n",
       "\n",
       "    .dataframe tbody tr th {\n",
       "        vertical-align: top;\n",
       "    }\n",
       "\n",
       "    .dataframe thead th {\n",
       "        text-align: right;\n",
       "    }\n",
       "</style>\n",
       "<table border=\"1\" class=\"dataframe\">\n",
       "  <thead>\n",
       "    <tr style=\"text-align: right;\">\n",
       "      <th>v2</th>\n",
       "      <th>MonthlyCharges</th>\n",
       "      <th>TotalCharges</th>\n",
       "      <th>tenure</th>\n",
       "    </tr>\n",
       "    <tr>\n",
       "      <th>v1</th>\n",
       "      <th></th>\n",
       "      <th></th>\n",
       "      <th></th>\n",
       "    </tr>\n",
       "  </thead>\n",
       "  <tbody>\n",
       "    <tr>\n",
       "      <th>MonthlyCharges</th>\n",
       "      <td>NaN</td>\n",
       "      <td>0.651</td>\n",
       "      <td>0.247</td>\n",
       "    </tr>\n",
       "    <tr>\n",
       "      <th>TotalCharges</th>\n",
       "      <td>0.651</td>\n",
       "      <td>NaN</td>\n",
       "      <td>0.826</td>\n",
       "    </tr>\n",
       "    <tr>\n",
       "      <th>tenure</th>\n",
       "      <td>0.247</td>\n",
       "      <td>0.826</td>\n",
       "      <td>NaN</td>\n",
       "    </tr>\n",
       "  </tbody>\n",
       "</table>\n",
       "</div>"
      ],
      "text/plain": [
       "v2              MonthlyCharges  TotalCharges  tenure\n",
       "v1                                                  \n",
       "MonthlyCharges             NaN         0.651   0.247\n",
       "TotalCharges             0.651           NaN   0.826\n",
       "tenure                   0.247         0.826     NaN"
      ]
     },
     "execution_count": 27,
     "metadata": {},
     "output_type": "execute_result"
    }
   ],
   "source": [
    "num_corrs = []\n",
    "for i in num_num_prod:\n",
    "    if i[0] != i[1]:\n",
    "        num_corrs.append([i[0], i[1], np.corrcoef(df[i[0]], df[i[1]])[0][1]])\n",
    "\n",
    "df_num_corrs = pd.DataFrame(num_corrs, columns=[\"v1\", \"v2\", \"coefficient\"])\n",
    "df_num_corrs = df_num_corrs.pivot(index=\"v1\", columns=\"v2\", values=\"coefficient\")\n",
    "df_num_corrs"
   ]
  },
  {
   "cell_type": "markdown",
   "metadata": {},
   "source": [
    "Note:\n",
    "- TotalCharges is largely a product of tenure and MonthlyCharges, so it may be an excess variable"
   ]
  },
  {
   "cell_type": "markdown",
   "metadata": {},
   "source": [
    "### 4. Data transformation"
   ]
  },
  {
   "cell_type": "markdown",
   "metadata": {},
   "source": [
    "Main dataset for model training will be a one hot encoded dataframe without the \"duplicate\" columns and without gender."
   ]
  },
  {
   "cell_type": "code",
   "execution_count": 28,
   "metadata": {},
   "outputs": [],
   "source": [
    "df_deduped_columns = [\n",
    "    i for i in df.columns if i not in internet_svc + [\"MultipleLines\", \"TotalCharges\"]\n",
    "]\n",
    "df_deduped = df[[i for i in df_deduped_columns if i not in numerical_columns]]\n",
    "\n",
    "deduped_cat_dummies = pd.get_dummies(df_deduped, drop_first=True, dtype=int)\n",
    "df_deduped_one_hot = pd.concat([df[numerical_columns], deduped_cat_dummies], axis=1)\n",
    "\n",
    "df_deduped_one_hot.to_csv(\"data/df_deduped.csv\", index=False)"
   ]
  },
  {
   "cell_type": "markdown",
   "metadata": {},
   "source": [
    "Backup dataset for model training - one hot encoding for all categorical variables"
   ]
  },
  {
   "cell_type": "code",
   "execution_count": 29,
   "metadata": {},
   "outputs": [],
   "source": [
    "all_cat_dummies = pd.get_dummies(df[all_categorical_columns], drop_first=True, dtype=int)\n",
    "df_all_one_hot = pd.concat([df[numerical_columns], all_cat_dummies], axis=1)\n",
    "\n",
    "df_all_one_hot.to_csv(\"data/df_all.csv\", index=False)"
   ]
  }
 ],
 "metadata": {
  "kernelspec": {
   "display_name": ".venv",
   "language": "python",
   "name": "python3"
  },
  "language_info": {
   "codemirror_mode": {
    "name": "ipython",
    "version": 3
   },
   "file_extension": ".py",
   "mimetype": "text/x-python",
   "name": "python",
   "nbconvert_exporter": "python",
   "pygments_lexer": "ipython3",
   "version": "3.12.8"
  }
 },
 "nbformat": 4,
 "nbformat_minor": 2
}
